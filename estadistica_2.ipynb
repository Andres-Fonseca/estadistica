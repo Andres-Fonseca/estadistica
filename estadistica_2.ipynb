{
 "cells": [
  {
   "cell_type": "code",
   "execution_count": 152,
   "metadata": {},
   "outputs": [],
   "source": [
    "import pandas as pd \n",
    "import numpy as np\n",
    "import matplotlib.pyplot as plt\n",
    "import scipy.stats  as sci"
   ]
  },
  {
   "cell_type": "code",
   "execution_count": 153,
   "metadata": {},
   "outputs": [],
   "source": [
    "url = 'https://github.com/Andres-Fonseca/data_sets/raw/main/DatosTrabajo2EAE20242.csv'\n",
    "datos_empresas=pd.read_csv(url,delimiter=';', encoding='ISO-8859-1')"
   ]
  },
  {
   "cell_type": "markdown",
   "metadata": {},
   "source": [
    "PREGUNTA 1"
   ]
  },
  {
   "cell_type": "code",
   "execution_count": 154,
   "metadata": {},
   "outputs": [],
   "source": [
    "# nivel de significancia α=0.05\n",
    "# numero de datos = 200"
   ]
  },
  {
   "cell_type": "code",
   "execution_count": 155,
   "metadata": {},
   "outputs": [],
   "source": [
    "# promedio de inversion \n",
    "mean= np.mean(datos_empresas['Inversión en marketing digital'])\n",
    "# desviacion estandar muestral\n",
    "desviacion_estandar = np.std(datos_empresas['Inversión en marketing digital'], ddof=1)\n",
    "# tamaño de la muestra\n",
    "n= len(datos_empresas['Inversión en marketing digital'])\n",
    "# error estandar\n",
    "SE= desviacion_estandar/ np.sqrt(n)\n",
    "# t critico \n",
    "t_critical = sci.t.ppf(1 - 0.05 / 2, df=n - 1)\n",
    "# margen de erro\n",
    "margin_of_error = t_critical * SE\n",
    "# Calcular el intervalo de confianza\n",
    "confidence_interval = (mean - margin_of_error, mean + margin_of_error)"
   ]
  },
  {
   "cell_type": "code",
   "execution_count": 156,
   "metadata": {},
   "outputs": [
    {
     "name": "stdout",
     "output_type": "stream",
     "text": [
      "con un nivel de confianza del 95%,la inversión promedio en marketing digital es superior a 4 millones de pesos.\n",
      " intervalos (np.float64(4277535.141309839), np.float64(4641205.39869016)) \n"
     ]
    }
   ],
   "source": [
    "print(f'con un nivel de confianza del 95%\\\n",
    ",la inversión promedio en marketing digital es superior a 4 millones de pesos.\\n intervalos {confidence_interval} ')"
   ]
  },
  {
   "cell_type": "markdown",
   "metadata": {},
   "source": [
    "PREGUNTA 2 "
   ]
  },
  {
   "cell_type": "markdown",
   "metadata": {},
   "source": [
    "h0= uventas−uinversion ≤2,000,000\n",
    "\n",
    "ha= uventas−uinversion >2,000,000"
   ]
  },
  {
   "cell_type": "code",
   "execution_count": 157,
   "metadata": {},
   "outputs": [],
   "source": [
    "# nivel de significancia α=0.06"
   ]
  },
  {
   "cell_type": "markdown",
   "metadata": {},
   "source": [
    "### tipo de distribucion "
   ]
  },
  {
   "cell_type": "code",
   "execution_count": 158,
   "metadata": {},
   "outputs": [
    {
     "name": "stdout",
     "output_type": "stream",
     "text": [
      "La distribucion de los datos de inversion no es normal\n",
      "La distribucion de los datos de venta no es normal\n"
     ]
    }
   ],
   "source": [
    "# se calcula si la distribucion de los datos es normal tanto para la inversion como ventas\n",
    "# esto con el fin de verificar que tipo de estadistico se debe utilizar para la prueba de hipotesis\n",
    "\n",
    "\n",
    "# prueba de Shapiro-Wilk inversion \n",
    "stat_, p_value_ = sci.shapiro(datos_empresas['Inversión en marketing digital'])\n",
    "print('La distribucion de los datos de inversion es normal' \\\n",
    "      if  p_value_>0.05 else 'La distribucion de los datos de inversion no es normal')\n",
    "\n",
    "# prueba de Shapiro-Wilk venta\n",
    "stat, p_value = sci.shapiro(datos_empresas['Venta'])\n",
    "print('La distribucion de los datos de venta es normal' \\\n",
    "      if  p_value>0.05 else 'La distribucion de los datos de venta no es normal')"
   ]
  },
  {
   "cell_type": "markdown",
   "metadata": {},
   "source": [
    "se grafica las distribuciones"
   ]
  },
  {
   "cell_type": "code",
   "execution_count": 159,
   "metadata": {},
   "outputs": [
    {
     "data": {
      "image/png": "[encoded data removed]",
      "text/plain": [
       "<Figure size 600x300 with 2 Axes>"
      ]
     },
     "metadata": {},
     "output_type": "display_data"
    }
   ],
   "source": [
    "fig , ax = plt.subplots(1,2 , figsize=(6,3))\n",
    "ax[0].hist(datos_empresas['Venta'], bins=40, edgecolor='k', alpha=0.7)\n",
    "ax[1].hist(datos_empresas['Inversión en marketing digital'], bins=40, edgecolor='k', alpha=0.7)\n",
    "\n",
    "plt.tight_layout(pad=3.0)\n",
    "plt.show()"
   ]
  },
  {
   "cell_type": "markdown",
   "metadata": {},
   "source": [
    "DATOS "
   ]
  },
  {
   "cell_type": "code",
   "execution_count": 160,
   "metadata": {},
   "outputs": [],
   "source": [
    "# media de ventas\n",
    "mean_ventas= np.mean(datos_empresas['Venta'])\n",
    "# media de inversion\n",
    "mean_inve= np.mean(datos_empresas['Inversión en marketing digital'])\n",
    "# delta \n",
    "delta = 2000000\n",
    "# varianza\n",
    "varianza_i= np.var(datos_empresas['Inversión en marketing digital'], ddof=1)\n",
    "varianza_v=np.var(datos_empresas['Venta'], ddof=1)\n",
    "# tamaño de la muestra\n",
    "n1=n\n",
    "n2=n"
   ]
  },
  {
   "cell_type": "markdown",
   "metadata": {},
   "source": [
    "Calculo del estadistico de prueba"
   ]
  },
  {
   "cell_type": "code",
   "execution_count": 161,
   "metadata": {},
   "outputs": [],
   "source": [
    "numerador= (mean_ventas - mean_inve) - delta\n",
    "denominador= np.sqrt((varianza_i/n1) + (varianza_v/n2))\n",
    "z = numerador/denominador"
   ]
  },
  {
   "cell_type": "code",
   "execution_count": 162,
   "metadata": {},
   "outputs": [],
   "source": [
    "z_alpha = sci.norm.ppf(1 - 0.06)"
   ]
  },
  {
   "cell_type": "code",
   "execution_count": 163,
   "metadata": {},
   "outputs": [
    {
     "name": "stdout",
     "output_type": "stream",
     "text": [
      "Se rechaza la hipótesis nula H0.\n"
     ]
    }
   ],
   "source": [
    "if z > z_alpha:\n",
    "    print(\"Se rechaza la hipótesis nula H0.\")\n",
    "else:\n",
    "    print(\"No se rechaza la hipótesis nula H0.\")"
   ]
  }
 ],
 "metadata": {
  "kernelspec": {
   "display_name": "Python 3",
   "language": "python",
   "name": "python3"
  },
  "language_info": {
   "codemirror_mode": {
    "name": "ipython",
    "version": 3
   },
   "file_extension": ".py",
   "mimetype": "text/x-python",
   "name": "python",
   "nbconvert_exporter": "python",
   "pygments_lexer": "ipython3",
   "version": "3.12.4"
  }
 },
 "nbformat": 4,
 "nbformat_minor": 2
}
