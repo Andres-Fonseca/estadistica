{
 "cells": [
  {
   "cell_type": "code",
   "execution_count": 13,
   "metadata": {},
   "outputs": [],
   "source": [
    "import pandas as pd \n",
    "import numpy as np\n",
    "import matplotlib.pyplot as plt\n",
    "import scipy.stats  as sci"
   ]
  },
  {
   "cell_type": "code",
   "execution_count": 14,
   "metadata": {},
   "outputs": [],
   "source": [
    "url = 'https://github.com/Andres-Fonseca/data_sets/raw/main/DatosTrabajo2EAE20242.csv'\n",
    "datos_empresas=pd.read_csv(url,delimiter=';', encoding='ISO-8859-1')"
   ]
  },
  {
   "cell_type": "markdown",
   "metadata": {},
   "source": [
    "PREGUNTA 1"
   ]
  },
  {
   "cell_type": "code",
   "execution_count": 15,
   "metadata": {},
   "outputs": [],
   "source": [
    "# nivel de significancia α=0.05\n",
    "# numero de datos = 200"
   ]
  },
  {
   "cell_type": "code",
   "execution_count": 16,
   "metadata": {},
   "outputs": [],
   "source": [
    "# promedio de inversion \n",
    "mean= np.mean(datos_empresas['Inversión en marketing digital'])\n",
    "# desviacion estandar muestral\n",
    "desviacion_estandar = np.std(datos_empresas['Inversión en marketing digital'], ddof=1)\n",
    "# tamaño de la muestra\n",
    "n= len(datos_empresas['Inversión en marketing digital'])\n",
    "# error estandar\n",
    "SE= desviacion_estandar/ np.sqrt(n)\n",
    "# t critico \n",
    "t_critical = sci.t.ppf(1 - 0.05 / 2, df=n - 1)\n",
    "# margen de erro\n",
    "margin_of_error = t_critical * SE\n",
    "# Calcular el intervalo de confianza\n",
    "confidence_interval = (mean - margin_of_error, mean + margin_of_error)"
   ]
  },
  {
   "cell_type": "code",
   "execution_count": 18,
   "metadata": {},
   "outputs": [
    {
     "name": "stdout",
     "output_type": "stream",
     "text": [
      "con un nivel de confianza del 95%,la inversión promedio en marketing digital es superior a 4 millones de pesos.\n",
      " intervalos (np.float64(4277535.141309839), np.float64(4641205.39869016)) \n"
     ]
    }
   ],
   "source": [
    "print(f'con un nivel de confianza del 95%\\\n",
    ",la inversión promedio en marketing digital es superior a 4 millones de pesos.\\n intervalos {confidence_interval} ')"
   ]
  },
  {
   "cell_type": "markdown",
   "metadata": {},
   "source": [
    "PREGUNTA 2 "
   ]
  }
 ],
 "metadata": {
  "kernelspec": {
   "display_name": "Python 3",
   "language": "python",
   "name": "python3"
  },
  "language_info": {
   "codemirror_mode": {
    "name": "ipython",
    "version": 3
   },
   "file_extension": ".py",
   "mimetype": "text/x-python",
   "name": "python",
   "nbconvert_exporter": "python",
   "pygments_lexer": "ipython3",
   "version": "3.12.6"
  }
 },
 "nbformat": 4,
 "nbformat_minor": 2
}
